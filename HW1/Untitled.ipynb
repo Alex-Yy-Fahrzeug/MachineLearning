{
 "cells": [
  {
   "cell_type": "code",
   "execution_count": 1,
   "metadata": {},
   "outputs": [],
   "source": [
    "import pandas as pd\n",
    "import numpy as np"
   ]
  },
  {
   "cell_type": "code",
   "execution_count": 2,
   "metadata": {},
   "outputs": [],
   "source": [
    "df1 = pd.read_csv('train(1).csv')"
   ]
  },
  {
   "cell_type": "code",
   "execution_count": 3,
   "metadata": {},
   "outputs": [
    {
     "name": "stdout",
     "output_type": "stream",
     "text": [
      "['日期' '測站' '測項' '0' '1' '2' '3' '4' '5' '6' '7' '8' '9' '10' '11' '12'\n",
      " '13' '14' '15' '16' '17' '18' '19' '20' '21' '22' '23']\n",
      "['0' '1' '2' '3' '4' '5' '6' '7' '8' '9' '10' '11' '12' '13' '14' '15'\n",
      " '16' '17' '18' '19' '20' '21' '22' '23']\n"
     ]
    }
   ],
   "source": [
    "# Turn the dateframe into training, testing, valid set\n",
    "print(df1.columns.values)\n",
    "df1 = df1.drop(['日期', '測站', '測項'],axis=1)\n",
    "print(df1.columns.values)"
   ]
  },
  {
   "cell_type": "code",
   "execution_count": 4,
   "metadata": {},
   "outputs": [
    {
     "name": "stdout",
     "output_type": "stream",
     "text": [
      "[ 76  79 123 187 192 143 227  36 108 209  89  12  46 236  61  73 161 212\n",
      " 117  97  28  39 228  83 105  92  29 103 159 154 157 235 119 198  68 135\n",
      " 168 218 158 222 226 182  69  60 170 215 202  72 140 129  78  35 205 239\n",
      "  30  26  55 203  34 220  96 138 162  93 169 225 137  64 181 213 149 186\n",
      " 197  62  57  53  71  54  10 238  98  88  41 118  85 114  44 112 102  66\n",
      "  59 166 194 109 231 153 155 111 193  20 190  27  65 206  87   1 122  14\n",
      " 189 175  38 151 156 185 177 204   8 163 232 167  42 146 110 200 171  13\n",
      " 199 124 139 128 219  33 152 234 133  80 126  56 184 121  15 217 160  52\n",
      "   7   2  47 148  67 145  86 179 178   0  17  37 230 229 115 196 164  18\n",
      " 223 174  77  50  70  16 136  75 144 141 134  94  48 147  31 176   9 165\n",
      "  81  49 201  25 214 211 237  43 188 100  90  82  99 142 180  40 191 127\n",
      " 125 120  74  19   4 210 107 173  95  58 224  23   6 207 195 104   5 183\n",
      " 150  24 216 208 221  91  32 130   3  84 101 132 172  11  45 106 116  63\n",
      "  22  21 131 233  51 113]\n"
     ]
    }
   ],
   "source": [
    "sizeof_sample = df1.shape[0]/18\n",
    "sizeof_train = sizeof_sample/10*8*(24-9)\n",
    "random_sample = np.arange(sizeof_sample)\n",
    "np.random.shuffle(random_sample)\n",
    "random_sample = random_sample.astype(int)\n",
    "print(random_sample)"
   ]
  },
  {
   "cell_type": "code",
   "execution_count": 5,
   "metadata": {},
   "outputs": [
    {
     "name": "stdout",
     "output_type": "stream",
     "text": [
      "[ 76  79 123 187 192 143 227  36 108 209  89  12  46 236  61  73 161 212\n",
      " 117  97  28  39 228  83 105  92  29 103 159 154 157 235 119 198  68 135\n",
      " 168 218 158 222 226 182  69  60 170 215 202  72 140 129  78  35 205 239\n",
      "  30  26  55 203  34 220  96 138 162  93 169 225 137  64 181 213 149 186\n",
      " 197  62  57  53  71  54  10 238  98  88  41 118  85 114  44 112 102  66\n",
      "  59 166 194 109 231 153 155 111 193  20 190  27  65 206  87   1 122  14\n",
      " 189 175  38 151 156 185 177 204   8 163 232 167  42 146 110 200 171  13\n",
      " 199 124 139 128 219  33 152 234 133  80 126  56 184 121  15 217 160  52\n",
      "   7   2  47 148  67 145  86 179 178   0  17  37 230 229 115 196 164  18\n",
      " 223 174  77  50  70  16 136  75 144 141 134  94  48 147  31 176   9 165\n",
      "  81  49 201  25 214 211 237  43 188 100  90  82]\n"
     ]
    }
   ],
   "source": [
    "train_set = random_sample[0:int(sizeof_sample/10*8)]\n",
    "test_set = random_sample[int(sizeof_sample/10*8):int(sizeof_sample/10*9)]\n",
    "valid_set = random_sample[int(sizeof_sample/10*9):int(sizeof_sample)]\n",
    "print(train_set)"
   ]
  },
  {
   "cell_type": "code",
   "execution_count": 35,
   "metadata": {},
   "outputs": [],
   "source": [
    "# Form the Modell\n",
    "# y = w0[]* x0[] + w1[] * x1[] + ...+w18[] * x18[] + b\n",
    "\n",
    "# Lossfunction\n",
    "# L = sum|y-y'|^2\n",
    "\n",
    "# Initial\n",
    "L0 = 100\n",
    "L1 = 0\n",
    "count = 1\n",
    "w = np.random.random([18,9])\n",
    "b = np.random.rand(1)\n",
    "dL_dw_sum = np.zeros([18,9])\n",
    "dL_db_sum = 0\n",
    "L_recoard = []\n",
    "\n",
    "learning_rate = 1"
   ]
  },
  {
   "cell_type": "code",
   "execution_count": 36,
   "metadata": {},
   "outputs": [
    {
     "name": "stdout",
     "output_type": "stream",
     "text": [
      "In 1 Loop, Error is 8287678.347814.\n",
      "\n",
      "In 2 Loop, Error is 6563521.990763.\n",
      "\n",
      "In 3 Loop, Error is 1119065.740512.\n",
      "\n",
      "In 4 Loop, Error is 152459.877707.\n",
      "\n",
      "In 5 Loop, Error is 25116.027337.\n",
      "\n",
      "In 6 Loop, Error is 8784.521362.\n",
      "\n",
      "In 7 Loop, Error is 6520.767171.\n",
      "\n",
      "In 8 Loop, Error is 6043.040665.\n",
      "\n",
      "In 9 Loop, Error is 5803.828510.\n",
      "\n",
      "In 10 Loop, Error is 5607.173832.\n",
      "\n",
      "In 11 Loop, Error is 5427.265475.\n",
      "\n",
      "In 12 Loop, Error is 5259.814710.\n",
      "\n",
      "In 13 Loop, Error is 5103.349656.\n",
      "\n",
      "In 14 Loop, Error is 4956.849928.\n",
      "\n",
      "In 15 Loop, Error is 4819.438132.\n",
      "\n",
      "In 16 Loop, Error is 4690.331277.\n",
      "\n",
      "In 17 Loop, Error is 4568.826075.\n",
      "\n",
      "In 18 Loop, Error is 4454.289525.\n",
      "\n",
      "In 19 Loop, Error is 4346.151063.\n",
      "\n",
      "In 20 Loop, Error is 4243.895696.\n",
      "\n",
      "In 21 Loop, Error is 4107.708158.\n",
      "\n",
      "In 22 Loop, Error is 3981.348268.\n",
      "\n",
      "In 23 Loop, Error is 3863.768409.\n",
      "\n",
      "In 24 Loop, Error is 3754.055771.\n",
      "\n",
      "In 25 Loop, Error is 3651.412732.\n",
      "\n",
      "In 26 Loop, Error is 3555.140359.\n",
      "\n",
      "In 27 Loop, Error is 3464.624486.\n",
      "\n",
      "In 28 Loop, Error is 3379.323962.\n",
      "\n",
      "In 29 Loop, Error is 3298.760692.\n",
      "\n",
      "In 30 Loop, Error is 3222.511182.\n",
      "\n",
      "In 31 Loop, Error is 3150.199352.\n",
      "\n",
      "In 32 Loop, Error is 3081.490398.\n",
      "\n",
      "In 33 Loop, Error is 3016.085555.\n",
      "\n",
      "In 34 Loop, Error is 2953.717590.\n",
      "\n",
      "In 35 Loop, Error is 2894.146950.\n",
      "\n",
      "In 36 Loop, Error is 2837.158421.\n",
      "\n",
      "In 37 Loop, Error is 2782.558259.\n",
      "\n",
      "In 38 Loop, Error is 2730.171694.\n",
      "\n",
      "In 39 Loop, Error is 2679.840765.\n",
      "\n",
      "In 40 Loop, Error is 2631.422436.\n",
      "\n",
      "In 41 Loop, Error is 2565.722154.\n",
      "\n",
      "In 42 Loop, Error is 2503.305444.\n",
      "\n",
      "In 43 Loop, Error is 2443.877373.\n",
      "\n",
      "In 44 Loop, Error is 2387.179180.\n",
      "\n",
      "In 45 Loop, Error is 2332.983078.\n",
      "\n",
      "In 46 Loop, Error is 2281.087909.\n",
      "\n",
      "In 47 Loop, Error is 2231.315467.\n",
      "\n",
      "In 48 Loop, Error is 2183.507402.\n",
      "\n",
      "In 49 Loop, Error is 2137.522580.\n",
      "\n",
      "In 50 Loop, Error is 2093.234845.\n",
      "\n",
      "In 51 Loop, Error is 2050.531094.\n",
      "\n",
      "In 52 Loop, Error is 2009.309640.\n",
      "\n",
      "In 53 Loop, Error is 1969.478796.\n",
      "\n",
      "In 54 Loop, Error is 1930.955662.\n",
      "\n",
      "In 55 Loop, Error is 1893.665097.\n",
      "\n",
      "In 56 Loop, Error is 1857.538866.\n",
      "\n",
      "In 57 Loop, Error is 1822.515018.\n",
      "\n",
      "In 58 Loop, Error is 1788.537709.\n",
      "\n",
      "In 59 Loop, Error is 1755.558072.\n",
      "\n",
      "In 60 Loop, Error is 1723.538006.\n",
      "\n",
      "In 61 Loop, Error is 1679.869600.\n",
      "\n",
      "In 62 Loop, Error is 1639.626221.\n",
      "\n",
      "In 63 Loop, Error is 1614.789891.\n",
      "\n",
      "In 64 Loop, Error is 1702.147909.\n",
      "\n",
      "In 65 Loop, Error is 2678.058864.\n",
      "\n",
      "In 66 Loop, Error is 10758.239511.\n",
      "\n",
      "In 67 Loop, Error is 75263.900731.\n",
      "\n",
      "In 68 Loop, Error is 561005.299712.\n",
      "\n",
      "In 69 Loop, Error is 3052507.851603.\n",
      "\n",
      "In 70 Loop, Error is 4967171.293307.\n",
      "\n",
      "In 71 Loop, Error is 2192918.486695.\n",
      "\n",
      "In 72 Loop, Error is 584824.247333.\n",
      "\n",
      "In 73 Loop, Error is 137312.103978.\n",
      "\n",
      "In 74 Loop, Error is 32049.350855.\n",
      "\n",
      "In 75 Loop, Error is 8212.301495.\n",
      "\n",
      "In 76 Loop, Error is 2853.711521.\n",
      "\n",
      "In 77 Loop, Error is 1644.640656.\n",
      "\n",
      "In 78 Loop, Error is 1365.270885.\n",
      "\n",
      "In 79 Loop, Error is 1294.172545.\n",
      "\n",
      "In 80 Loop, Error is 1269.805979.\n",
      "\n",
      "In 81 Loop, Error is 1255.234579.\n",
      "\n",
      "In 82 Loop, Error is 1241.039880.\n",
      "\n",
      "In 83 Loop, Error is 1227.236094.\n",
      "\n",
      "In 84 Loop, Error is 1213.841156.\n",
      "\n",
      "In 85 Loop, Error is 1200.877324.\n",
      "\n",
      "In 86 Loop, Error is 1188.371890.\n",
      "\n",
      "In 87 Loop, Error is 1176.358006.\n",
      "\n",
      "In 88 Loop, Error is 1164.875669.\n",
      "\n",
      "In 89 Loop, Error is 1153.972865.\n",
      "\n",
      "In 90 Loop, Error is 1143.706921.\n",
      "\n",
      "In 91 Loop, Error is 1134.146085.\n",
      "\n",
      "In 92 Loop, Error is 1125.371393.\n",
      "\n",
      "In 93 Loop, Error is 1117.478838.\n",
      "\n",
      "In 94 Loop, Error is 1110.581940.\n",
      "\n",
      "In 95 Loop, Error is 1104.814731.\n",
      "\n"
     ]
    },
    {
     "ename": "KeyboardInterrupt",
     "evalue": "",
     "output_type": "error",
     "traceback": [
      "\u001b[1;31m---------------------------------------------------------------------------\u001b[0m",
      "\u001b[1;31mKeyboardInterrupt\u001b[0m                         Traceback (most recent call last)",
      "\u001b[1;32m<ipython-input-36-be46e2f86411>\u001b[0m in \u001b[0;36m<module>\u001b[1;34m\u001b[0m\n\u001b[0;32m      9\u001b[0m         \u001b[1;31m# Loop for houers\u001b[0m\u001b[1;33m\u001b[0m\u001b[1;33m\u001b[0m\u001b[1;33m\u001b[0m\u001b[0m\n\u001b[0;32m     10\u001b[0m         \u001b[1;32mfor\u001b[0m \u001b[0mj\u001b[0m \u001b[1;32min\u001b[0m \u001b[0mrange\u001b[0m\u001b[1;33m(\u001b[0m\u001b[1;36m9\u001b[0m\u001b[1;33m,\u001b[0m\u001b[1;36m24\u001b[0m\u001b[1;33m)\u001b[0m\u001b[1;33m:\u001b[0m\u001b[1;33m\u001b[0m\u001b[1;33m\u001b[0m\u001b[0m\n\u001b[1;32m---> 11\u001b[1;33m             \u001b[0mx\u001b[0m \u001b[1;33m=\u001b[0m \u001b[1;33m(\u001b[0m\u001b[0mdf1\u001b[0m\u001b[1;33m.\u001b[0m\u001b[0miloc\u001b[0m\u001b[1;33m[\u001b[0m\u001b[0mi\u001b[0m\u001b[1;33m*\u001b[0m\u001b[1;36m18\u001b[0m\u001b[1;33m:\u001b[0m\u001b[1;33m(\u001b[0m\u001b[0mi\u001b[0m\u001b[1;33m+\u001b[0m\u001b[1;36m1\u001b[0m\u001b[1;33m)\u001b[0m\u001b[1;33m*\u001b[0m\u001b[1;36m18\u001b[0m\u001b[1;33m,\u001b[0m\u001b[0mj\u001b[0m\u001b[1;33m-\u001b[0m\u001b[1;36m9\u001b[0m\u001b[1;33m:\u001b[0m\u001b[0mj\u001b[0m\u001b[1;33m]\u001b[0m\u001b[1;33m)\u001b[0m\u001b[1;33m.\u001b[0m\u001b[0mvalues\u001b[0m\u001b[1;33m\u001b[0m\u001b[1;33m\u001b[0m\u001b[0m\n\u001b[0m\u001b[0;32m     12\u001b[0m             \u001b[1;32mfor\u001b[0m \u001b[0mk\u001b[0m \u001b[1;32min\u001b[0m \u001b[0mrange\u001b[0m\u001b[1;33m(\u001b[0m\u001b[1;36m9\u001b[0m\u001b[1;33m)\u001b[0m\u001b[1;33m:\u001b[0m\u001b[1;33m\u001b[0m\u001b[1;33m\u001b[0m\u001b[0m\n\u001b[0;32m     13\u001b[0m                 \u001b[1;32mif\u001b[0m \u001b[0mx\u001b[0m\u001b[1;33m[\u001b[0m\u001b[1;36m10\u001b[0m\u001b[1;33m,\u001b[0m\u001b[0mk\u001b[0m\u001b[1;33m]\u001b[0m \u001b[1;33m==\u001b[0m \u001b[1;34m'NR'\u001b[0m\u001b[1;33m:\u001b[0m\u001b[1;33m\u001b[0m\u001b[1;33m\u001b[0m\u001b[0m\n",
      "\u001b[1;32mD:\\Anaconda\\lib\\site-packages\\pandas\\core\\indexing.py\u001b[0m in \u001b[0;36m__getitem__\u001b[1;34m(self, key)\u001b[0m\n\u001b[0;32m   1416\u001b[0m                 \u001b[1;32mexcept\u001b[0m \u001b[1;33m(\u001b[0m\u001b[0mKeyError\u001b[0m\u001b[1;33m,\u001b[0m \u001b[0mIndexError\u001b[0m\u001b[1;33m,\u001b[0m \u001b[0mAttributeError\u001b[0m\u001b[1;33m)\u001b[0m\u001b[1;33m:\u001b[0m\u001b[1;33m\u001b[0m\u001b[1;33m\u001b[0m\u001b[0m\n\u001b[0;32m   1417\u001b[0m                     \u001b[1;32mpass\u001b[0m\u001b[1;33m\u001b[0m\u001b[1;33m\u001b[0m\u001b[0m\n\u001b[1;32m-> 1418\u001b[1;33m             \u001b[1;32mreturn\u001b[0m \u001b[0mself\u001b[0m\u001b[1;33m.\u001b[0m\u001b[0m_getitem_tuple\u001b[0m\u001b[1;33m(\u001b[0m\u001b[0mkey\u001b[0m\u001b[1;33m)\u001b[0m\u001b[1;33m\u001b[0m\u001b[1;33m\u001b[0m\u001b[0m\n\u001b[0m\u001b[0;32m   1419\u001b[0m         \u001b[1;32melse\u001b[0m\u001b[1;33m:\u001b[0m\u001b[1;33m\u001b[0m\u001b[1;33m\u001b[0m\u001b[0m\n\u001b[0;32m   1420\u001b[0m             \u001b[1;31m# we by definition only have the 0th axis\u001b[0m\u001b[1;33m\u001b[0m\u001b[1;33m\u001b[0m\u001b[1;33m\u001b[0m\u001b[0m\n",
      "\u001b[1;32mD:\\Anaconda\\lib\\site-packages\\pandas\\core\\indexing.py\u001b[0m in \u001b[0;36m_getitem_tuple\u001b[1;34m(self, tup)\u001b[0m\n\u001b[0;32m   2103\u001b[0m                 \u001b[1;32mcontinue\u001b[0m\u001b[1;33m\u001b[0m\u001b[1;33m\u001b[0m\u001b[0m\n\u001b[0;32m   2104\u001b[0m \u001b[1;33m\u001b[0m\u001b[0m\n\u001b[1;32m-> 2105\u001b[1;33m             \u001b[0mretval\u001b[0m \u001b[1;33m=\u001b[0m \u001b[0mgetattr\u001b[0m\u001b[1;33m(\u001b[0m\u001b[0mretval\u001b[0m\u001b[1;33m,\u001b[0m \u001b[0mself\u001b[0m\u001b[1;33m.\u001b[0m\u001b[0mname\u001b[0m\u001b[1;33m)\u001b[0m\u001b[1;33m.\u001b[0m\u001b[0m_getitem_axis\u001b[0m\u001b[1;33m(\u001b[0m\u001b[0mkey\u001b[0m\u001b[1;33m,\u001b[0m \u001b[0maxis\u001b[0m\u001b[1;33m=\u001b[0m\u001b[0maxis\u001b[0m\u001b[1;33m)\u001b[0m\u001b[1;33m\u001b[0m\u001b[1;33m\u001b[0m\u001b[0m\n\u001b[0m\u001b[0;32m   2106\u001b[0m \u001b[1;33m\u001b[0m\u001b[0m\n\u001b[0;32m   2107\u001b[0m             \u001b[1;31m# if the dim was reduced, then pass a lower-dim the next time\u001b[0m\u001b[1;33m\u001b[0m\u001b[1;33m\u001b[0m\u001b[1;33m\u001b[0m\u001b[0m\n",
      "\u001b[1;32mD:\\Anaconda\\lib\\site-packages\\pandas\\core\\indexing.py\u001b[0m in \u001b[0;36m_getitem_axis\u001b[1;34m(self, key, axis)\u001b[0m\n\u001b[0;32m   2135\u001b[0m     \u001b[1;32mdef\u001b[0m \u001b[0m_getitem_axis\u001b[0m\u001b[1;33m(\u001b[0m\u001b[0mself\u001b[0m\u001b[1;33m,\u001b[0m \u001b[0mkey\u001b[0m\u001b[1;33m,\u001b[0m \u001b[0maxis\u001b[0m\u001b[1;33m:\u001b[0m \u001b[0mint\u001b[0m\u001b[1;33m)\u001b[0m\u001b[1;33m:\u001b[0m\u001b[1;33m\u001b[0m\u001b[1;33m\u001b[0m\u001b[0m\n\u001b[0;32m   2136\u001b[0m         \u001b[1;32mif\u001b[0m \u001b[0misinstance\u001b[0m\u001b[1;33m(\u001b[0m\u001b[0mkey\u001b[0m\u001b[1;33m,\u001b[0m \u001b[0mslice\u001b[0m\u001b[1;33m)\u001b[0m\u001b[1;33m:\u001b[0m\u001b[1;33m\u001b[0m\u001b[1;33m\u001b[0m\u001b[0m\n\u001b[1;32m-> 2137\u001b[1;33m             \u001b[1;32mreturn\u001b[0m \u001b[0mself\u001b[0m\u001b[1;33m.\u001b[0m\u001b[0m_get_slice_axis\u001b[0m\u001b[1;33m(\u001b[0m\u001b[0mkey\u001b[0m\u001b[1;33m,\u001b[0m \u001b[0maxis\u001b[0m\u001b[1;33m=\u001b[0m\u001b[0maxis\u001b[0m\u001b[1;33m)\u001b[0m\u001b[1;33m\u001b[0m\u001b[1;33m\u001b[0m\u001b[0m\n\u001b[0m\u001b[0;32m   2138\u001b[0m \u001b[1;33m\u001b[0m\u001b[0m\n\u001b[0;32m   2139\u001b[0m         \u001b[1;32mif\u001b[0m \u001b[0misinstance\u001b[0m\u001b[1;33m(\u001b[0m\u001b[0mkey\u001b[0m\u001b[1;33m,\u001b[0m \u001b[0mlist\u001b[0m\u001b[1;33m)\u001b[0m\u001b[1;33m:\u001b[0m\u001b[1;33m\u001b[0m\u001b[1;33m\u001b[0m\u001b[0m\n",
      "\u001b[1;32mD:\\Anaconda\\lib\\site-packages\\pandas\\core\\indexing.py\u001b[0m in \u001b[0;36m_get_slice_axis\u001b[1;34m(self, slice_obj, axis)\u001b[0m\n\u001b[0;32m   1306\u001b[0m \u001b[1;33m\u001b[0m\u001b[0m\n\u001b[0;32m   1307\u001b[0m         \u001b[0mindexer\u001b[0m \u001b[1;33m=\u001b[0m \u001b[0mself\u001b[0m\u001b[1;33m.\u001b[0m\u001b[0m_convert_slice_indexer\u001b[0m\u001b[1;33m(\u001b[0m\u001b[0mslice_obj\u001b[0m\u001b[1;33m,\u001b[0m \u001b[0maxis\u001b[0m\u001b[1;33m)\u001b[0m\u001b[1;33m\u001b[0m\u001b[1;33m\u001b[0m\u001b[0m\n\u001b[1;32m-> 1308\u001b[1;33m         \u001b[1;32mreturn\u001b[0m \u001b[0mself\u001b[0m\u001b[1;33m.\u001b[0m\u001b[0m_slice\u001b[0m\u001b[1;33m(\u001b[0m\u001b[0mindexer\u001b[0m\u001b[1;33m,\u001b[0m \u001b[0maxis\u001b[0m\u001b[1;33m=\u001b[0m\u001b[0maxis\u001b[0m\u001b[1;33m,\u001b[0m \u001b[0mkind\u001b[0m\u001b[1;33m=\u001b[0m\u001b[1;34m\"iloc\"\u001b[0m\u001b[1;33m)\u001b[0m\u001b[1;33m\u001b[0m\u001b[1;33m\u001b[0m\u001b[0m\n\u001b[0m\u001b[0;32m   1309\u001b[0m \u001b[1;33m\u001b[0m\u001b[0m\n\u001b[0;32m   1310\u001b[0m \u001b[1;33m\u001b[0m\u001b[0m\n",
      "\u001b[1;32mD:\\Anaconda\\lib\\site-packages\\pandas\\core\\indexing.py\u001b[0m in \u001b[0;36m_slice\u001b[1;34m(self, obj, axis, kind)\u001b[0m\n\u001b[0;32m    164\u001b[0m \u001b[1;33m\u001b[0m\u001b[0m\n\u001b[0;32m    165\u001b[0m     \u001b[1;32mdef\u001b[0m \u001b[0m_slice\u001b[0m\u001b[1;33m(\u001b[0m\u001b[0mself\u001b[0m\u001b[1;33m,\u001b[0m \u001b[0mobj\u001b[0m\u001b[1;33m,\u001b[0m \u001b[0maxis\u001b[0m\u001b[1;33m:\u001b[0m \u001b[0mint\u001b[0m\u001b[1;33m,\u001b[0m \u001b[0mkind\u001b[0m\u001b[1;33m=\u001b[0m\u001b[1;32mNone\u001b[0m\u001b[1;33m)\u001b[0m\u001b[1;33m:\u001b[0m\u001b[1;33m\u001b[0m\u001b[1;33m\u001b[0m\u001b[0m\n\u001b[1;32m--> 166\u001b[1;33m         \u001b[1;32mreturn\u001b[0m \u001b[0mself\u001b[0m\u001b[1;33m.\u001b[0m\u001b[0mobj\u001b[0m\u001b[1;33m.\u001b[0m\u001b[0m_slice\u001b[0m\u001b[1;33m(\u001b[0m\u001b[0mobj\u001b[0m\u001b[1;33m,\u001b[0m \u001b[0maxis\u001b[0m\u001b[1;33m=\u001b[0m\u001b[0maxis\u001b[0m\u001b[1;33m,\u001b[0m \u001b[0mkind\u001b[0m\u001b[1;33m=\u001b[0m\u001b[0mkind\u001b[0m\u001b[1;33m)\u001b[0m\u001b[1;33m\u001b[0m\u001b[1;33m\u001b[0m\u001b[0m\n\u001b[0m\u001b[0;32m    167\u001b[0m \u001b[1;33m\u001b[0m\u001b[0m\n\u001b[0;32m    168\u001b[0m     \u001b[1;32mdef\u001b[0m \u001b[0m_get_setitem_indexer\u001b[0m\u001b[1;33m(\u001b[0m\u001b[0mself\u001b[0m\u001b[1;33m,\u001b[0m \u001b[0mkey\u001b[0m\u001b[1;33m)\u001b[0m\u001b[1;33m:\u001b[0m\u001b[1;33m\u001b[0m\u001b[1;33m\u001b[0m\u001b[0m\n",
      "\u001b[1;32mD:\\Anaconda\\lib\\site-packages\\pandas\\core\\generic.py\u001b[0m in \u001b[0;36m_slice\u001b[1;34m(self, slobj, axis, kind)\u001b[0m\n\u001b[0;32m   3369\u001b[0m         \"\"\"\n\u001b[0;32m   3370\u001b[0m         \u001b[0maxis\u001b[0m \u001b[1;33m=\u001b[0m \u001b[0mself\u001b[0m\u001b[1;33m.\u001b[0m\u001b[0m_get_block_manager_axis\u001b[0m\u001b[1;33m(\u001b[0m\u001b[0maxis\u001b[0m\u001b[1;33m)\u001b[0m\u001b[1;33m\u001b[0m\u001b[1;33m\u001b[0m\u001b[0m\n\u001b[1;32m-> 3371\u001b[1;33m         \u001b[0mresult\u001b[0m \u001b[1;33m=\u001b[0m \u001b[0mself\u001b[0m\u001b[1;33m.\u001b[0m\u001b[0m_constructor\u001b[0m\u001b[1;33m(\u001b[0m\u001b[0mself\u001b[0m\u001b[1;33m.\u001b[0m\u001b[0m_data\u001b[0m\u001b[1;33m.\u001b[0m\u001b[0mget_slice\u001b[0m\u001b[1;33m(\u001b[0m\u001b[0mslobj\u001b[0m\u001b[1;33m,\u001b[0m \u001b[0maxis\u001b[0m\u001b[1;33m=\u001b[0m\u001b[0maxis\u001b[0m\u001b[1;33m)\u001b[0m\u001b[1;33m)\u001b[0m\u001b[1;33m\u001b[0m\u001b[1;33m\u001b[0m\u001b[0m\n\u001b[0m\u001b[0;32m   3372\u001b[0m         \u001b[0mresult\u001b[0m \u001b[1;33m=\u001b[0m \u001b[0mresult\u001b[0m\u001b[1;33m.\u001b[0m\u001b[0m__finalize__\u001b[0m\u001b[1;33m(\u001b[0m\u001b[0mself\u001b[0m\u001b[1;33m)\u001b[0m\u001b[1;33m\u001b[0m\u001b[1;33m\u001b[0m\u001b[0m\n\u001b[0;32m   3373\u001b[0m \u001b[1;33m\u001b[0m\u001b[0m\n",
      "\u001b[1;32mD:\\Anaconda\\lib\\site-packages\\pandas\\core\\internals\\managers.py\u001b[0m in \u001b[0;36mget_slice\u001b[1;34m(self, slobj, axis)\u001b[0m\n\u001b[0;32m    752\u001b[0m         \u001b[0mnew_axes\u001b[0m\u001b[1;33m[\u001b[0m\u001b[0maxis\u001b[0m\u001b[1;33m]\u001b[0m \u001b[1;33m=\u001b[0m \u001b[0mnew_axes\u001b[0m\u001b[1;33m[\u001b[0m\u001b[0maxis\u001b[0m\u001b[1;33m]\u001b[0m\u001b[1;33m[\u001b[0m\u001b[0mslobj\u001b[0m\u001b[1;33m]\u001b[0m\u001b[1;33m\u001b[0m\u001b[1;33m\u001b[0m\u001b[0m\n\u001b[0;32m    753\u001b[0m \u001b[1;33m\u001b[0m\u001b[0m\n\u001b[1;32m--> 754\u001b[1;33m         \u001b[0mbm\u001b[0m \u001b[1;33m=\u001b[0m \u001b[0mself\u001b[0m\u001b[1;33m.\u001b[0m\u001b[0m__class__\u001b[0m\u001b[1;33m(\u001b[0m\u001b[0mnew_blocks\u001b[0m\u001b[1;33m,\u001b[0m \u001b[0mnew_axes\u001b[0m\u001b[1;33m,\u001b[0m \u001b[0mdo_integrity_check\u001b[0m\u001b[1;33m=\u001b[0m\u001b[1;32mFalse\u001b[0m\u001b[1;33m)\u001b[0m\u001b[1;33m\u001b[0m\u001b[1;33m\u001b[0m\u001b[0m\n\u001b[0m\u001b[0;32m    755\u001b[0m         \u001b[0mbm\u001b[0m\u001b[1;33m.\u001b[0m\u001b[0m_consolidate_inplace\u001b[0m\u001b[1;33m(\u001b[0m\u001b[1;33m)\u001b[0m\u001b[1;33m\u001b[0m\u001b[1;33m\u001b[0m\u001b[0m\n\u001b[0;32m    756\u001b[0m         \u001b[1;32mreturn\u001b[0m \u001b[0mbm\u001b[0m\u001b[1;33m\u001b[0m\u001b[1;33m\u001b[0m\u001b[0m\n",
      "\u001b[1;32mD:\\Anaconda\\lib\\site-packages\\pandas\\core\\internals\\managers.py\u001b[0m in \u001b[0;36m__init__\u001b[1;34m(self, blocks, axes, do_integrity_check)\u001b[0m\n\u001b[0;32m    145\u001b[0m         \u001b[0mself\u001b[0m\u001b[1;33m.\u001b[0m\u001b[0m_consolidate_check\u001b[0m\u001b[1;33m(\u001b[0m\u001b[1;33m)\u001b[0m\u001b[1;33m\u001b[0m\u001b[1;33m\u001b[0m\u001b[0m\n\u001b[0;32m    146\u001b[0m \u001b[1;33m\u001b[0m\u001b[0m\n\u001b[1;32m--> 147\u001b[1;33m         \u001b[0mself\u001b[0m\u001b[1;33m.\u001b[0m\u001b[0m_rebuild_blknos_and_blklocs\u001b[0m\u001b[1;33m(\u001b[0m\u001b[1;33m)\u001b[0m\u001b[1;33m\u001b[0m\u001b[1;33m\u001b[0m\u001b[0m\n\u001b[0m\u001b[0;32m    148\u001b[0m \u001b[1;33m\u001b[0m\u001b[0m\n\u001b[0;32m    149\u001b[0m     \u001b[1;32mdef\u001b[0m \u001b[0mmake_empty\u001b[0m\u001b[1;33m(\u001b[0m\u001b[0mself\u001b[0m\u001b[1;33m,\u001b[0m \u001b[0maxes\u001b[0m\u001b[1;33m=\u001b[0m\u001b[1;32mNone\u001b[0m\u001b[1;33m)\u001b[0m\u001b[1;33m:\u001b[0m\u001b[1;33m\u001b[0m\u001b[1;33m\u001b[0m\u001b[0m\n",
      "\u001b[1;32mD:\\Anaconda\\lib\\site-packages\\pandas\\core\\internals\\managers.py\u001b[0m in \u001b[0;36m_rebuild_blknos_and_blklocs\u001b[1;34m(self)\u001b[0m\n\u001b[0;32m    226\u001b[0m             \u001b[0mrl\u001b[0m \u001b[1;33m=\u001b[0m \u001b[0mblk\u001b[0m\u001b[1;33m.\u001b[0m\u001b[0mmgr_locs\u001b[0m\u001b[1;33m\u001b[0m\u001b[1;33m\u001b[0m\u001b[0m\n\u001b[0;32m    227\u001b[0m             \u001b[0mnew_blknos\u001b[0m\u001b[1;33m[\u001b[0m\u001b[0mrl\u001b[0m\u001b[1;33m.\u001b[0m\u001b[0mindexer\u001b[0m\u001b[1;33m]\u001b[0m \u001b[1;33m=\u001b[0m \u001b[0mblkno\u001b[0m\u001b[1;33m\u001b[0m\u001b[1;33m\u001b[0m\u001b[0m\n\u001b[1;32m--> 228\u001b[1;33m             \u001b[0mnew_blklocs\u001b[0m\u001b[1;33m[\u001b[0m\u001b[0mrl\u001b[0m\u001b[1;33m.\u001b[0m\u001b[0mindexer\u001b[0m\u001b[1;33m]\u001b[0m \u001b[1;33m=\u001b[0m \u001b[0mnp\u001b[0m\u001b[1;33m.\u001b[0m\u001b[0marange\u001b[0m\u001b[1;33m(\u001b[0m\u001b[0mlen\u001b[0m\u001b[1;33m(\u001b[0m\u001b[0mrl\u001b[0m\u001b[1;33m)\u001b[0m\u001b[1;33m)\u001b[0m\u001b[1;33m\u001b[0m\u001b[1;33m\u001b[0m\u001b[0m\n\u001b[0m\u001b[0;32m    229\u001b[0m \u001b[1;33m\u001b[0m\u001b[0m\n\u001b[0;32m    230\u001b[0m         \u001b[1;32mif\u001b[0m \u001b[1;33m(\u001b[0m\u001b[0mnew_blknos\u001b[0m \u001b[1;33m==\u001b[0m \u001b[1;33m-\u001b[0m\u001b[1;36m1\u001b[0m\u001b[1;33m)\u001b[0m\u001b[1;33m.\u001b[0m\u001b[0many\u001b[0m\u001b[1;33m(\u001b[0m\u001b[1;33m)\u001b[0m\u001b[1;33m:\u001b[0m\u001b[1;33m\u001b[0m\u001b[1;33m\u001b[0m\u001b[0m\n",
      "\u001b[1;31mKeyboardInterrupt\u001b[0m: "
     ]
    }
   ],
   "source": [
    "## Loop Sum\n",
    "while (np.abs(L0-L1) > 1e-2):\n",
    "    L0 = L1\n",
    "    L1 = 0\n",
    "    dL_dw = np.zeros([18,9])\n",
    "    dL_db = 0\n",
    "    # Loop for days\n",
    "    for i in train_set:\n",
    "        # Loop for houers\n",
    "        for j in range(9,24):\n",
    "            x = (df1.iloc[i*18:(i+1)*18,j-9:j]).values\n",
    "            for k in range(9):\n",
    "                if x[10,k] == 'NR':\n",
    "                    x[10,k] = 0\n",
    "            x = x.astype(np.float64)\n",
    "            y = float(df1.iloc[i*18+9,j]) \n",
    "            # Cauculationf the loss\n",
    "            y_p = (x*w).sum().sum()+b\n",
    "            L1 +=  np.square(y-y_p)\n",
    "            # Cauculating the Gradient\n",
    "            dL_dw += 2*(y_p-y)*x\n",
    "            dL_db += float(2*(y_p-y))\n",
    "    L1 = L1/sizeof_train;\n",
    "    dL_dw = dL_dw/sizeof_train;\n",
    "    dL_db = dL_db/sizeof_train;\n",
    "    L_recoard.append(float(L1))\n",
    "    dL_dw_sum = np.sqrt(dL_dw_sum**2 + dL_dw**2)\n",
    "    dL_db_sum = np.sqrt(dL_db_sum**2 + dL_db**2)\n",
    "    w -= dL_dw*learning_rate/dL_dw_sum\n",
    "    b -= dL_db*learning_rate/dL_db_sum  \n",
    "    print('In %d Loop, Error is %f.\\n'%(count,L1))\n",
    "    #print(dL_dw,dL_db)\n",
    "    count += 1\n",
    "    if count%20 == 0:\n",
    "        dL_dw_sum /= 2**0.5\n",
    "        dL_db_sum /= 2**0.5"
   ]
  },
  {
   "cell_type": "code",
   "execution_count": 13,
   "metadata": {},
   "outputs": [
    {
     "data": {
      "text/plain": [
       "[<matplotlib.lines.Line2D at 0x1fdfa113208>]"
      ]
     },
     "execution_count": 13,
     "metadata": {},
     "output_type": "execute_result"
    },
    {
     "data": {
      "image/png": "[encoded data removed]",
      "text/plain": [
       "<Figure size 432x288 with 1 Axes>"
      ]
     },
     "metadata": {
      "needs_background": "light"
     },
     "output_type": "display_data"
    }
   ],
   "source": [
    "import matplotlib.pyplot as plt\n",
    "Loop_number = np.arange(len(L_recoard))+1\n",
    "plt.plot(Loop_number[100:],L_recoard[100:])\n"
   ]
  },
  {
   "cell_type": "code",
   "execution_count": 15,
   "metadata": {},
   "outputs": [
    {
     "name": "stdout",
     "output_type": "stream",
     "text": [
      "[123.82821269]\n"
     ]
    }
   ],
   "source": [
    "## Test\n",
    "L_test = 0\n",
    "sizeof_test = sizeof_sample/10*(24-9)\n",
    "for i in test_set:\n",
    "    # Loop for houers\n",
    "    for j in range(9,24):\n",
    "        x = (df1.iloc[i*18:(i+1)*18,j-9:j]).values\n",
    "        for k in range(9):\n",
    "            if x[10,k] == 'NR':\n",
    "                x[10,k] = 0\n",
    "        x = x.astype(np.float64)\n",
    "        y = float(df1.iloc[i*18+9,j]) \n",
    "        # Cauculationf the loss\n",
    "        y_p = (x*w).sum().sum()+b\n",
    "        L_test +=  np.square(y-y_p)\n",
    "L_test = L_test/sizeof_test\n",
    "print(L_test)"
   ]
  },
  {
   "cell_type": "code",
   "execution_count": 32,
   "metadata": {},
   "outputs": [
    {
     "data": {
      "text/plain": [
       "4"
      ]
     },
     "execution_count": 32,
     "metadata": {},
     "output_type": "execute_result"
    }
   ],
   "source": []
  },
  {
   "cell_type": "markdown",
   "metadata": {},
   "source": [
    "\n"
   ]
  }
 ],
 "metadata": {
  "kernelspec": {
   "display_name": "Python 3",
   "language": "python",
   "name": "python3"
  },
  "language_info": {
   "codemirror_mode": {
    "name": "ipython",
    "version": 3
   },
   "file_extension": ".py",
   "mimetype": "text/x-python",
   "name": "python",
   "nbconvert_exporter": "python",
   "pygments_lexer": "ipython3",
   "version": "3.7.4"
  }
 },
 "nbformat": 4,
 "nbformat_minor": 2
}
